{
 "cells": [
  {
   "cell_type": "markdown",
   "id": "23f1a174",
   "metadata": {},
   "source": [
    "# Resources for Learning:\n",
    "\n",
    " - realpython.com\n",
    " \n",
    " - kaggle.com\n",
    " \n",
    " some books"
   ]
  },
  {
   "cell_type": "markdown",
   "id": "4d638a5e",
   "metadata": {},
   "source": [
    "# Variable types\n",
    "\n",
    "- int\n",
    "- float\n",
    "- boolean\n",
    "- complex"
   ]
  },
  {
   "cell_type": "code",
   "execution_count": 8,
   "id": "0c949113",
   "metadata": {},
   "outputs": [
    {
     "name": "stdout",
     "output_type": "stream",
     "text": [
      "<class 'int'>\n",
      "<class 'float'>\n",
      "<class 'bool'>\n",
      "<class 'complex'>\n",
      "<class 'str'>\n",
      "<class 'list'>\n",
      "<class 'tuple'>\n",
      "<class 'set'>\n",
      "<class 'dict'>\n"
     ]
    }
   ],
   "source": [
    "# basic type:\n",
    "print(type(1))\n",
    "print(type(3.14))\n",
    "print(type(True))\n",
    "print(type(3+2j))\n",
    "\n",
    "# data structurs:\n",
    "print(type('khamir'))\n",
    "print(type([1, 3, 'amir']))\n",
    "print(type((1, 3, 'amir')))\n",
    "print(type({1, 2, 3}))\n",
    "print(type({'key': 'value'}))\n"
   ]
  },
  {
   "cell_type": "code",
   "execution_count": 9,
   "id": "8416d0cd",
   "metadata": {},
   "outputs": [
    {
     "name": "stdout",
     "output_type": "stream",
     "text": [
      "1\n",
      "2\n"
     ]
    }
   ],
   "source": [
    "# case sensitive\n",
    "a = 1\n",
    "A = 2\n",
    "print(a)\n",
    "print(A)"
   ]
  },
  {
   "cell_type": "code",
   "execution_count": 10,
   "id": "d190d94a",
   "metadata": {},
   "outputs": [],
   "source": [
    "# do not start with number\n",
    "\n",
    "s2 = 5 #  but not 2s"
   ]
  },
  {
   "cell_type": "markdown",
   "id": "061a5548",
   "metadata": {},
   "source": [
    "# Oprators\n",
    "\n",
    "- Arithmatic\n",
    "\n",
    "- Logical\n",
    "\n",
    "- Comparison\n",
    "\n",
    "- Hybrid"
   ]
  },
  {
   "cell_type": "code",
   "execution_count": 15,
   "id": "f1bbc398",
   "metadata": {},
   "outputs": [
    {
     "name": "stdout",
     "output_type": "stream",
     "text": [
      "5\n",
      "-1\n",
      "10\n",
      "2.3333333333333335\n",
      "2\n",
      "125\n",
      "3\n"
     ]
    }
   ],
   "source": [
    "print(2+3)\n",
    "print(3-4)\n",
    "print(2*5)\n",
    "print(7/3)\n",
    "print(7//3)\n",
    "print(5**3)\n",
    "print(15%4) # shift + 5 = %"
   ]
  },
  {
   "cell_type": "code",
   "execution_count": 17,
   "id": "19c036bf",
   "metadata": {},
   "outputs": [
    {
     "name": "stdout",
     "output_type": "stream",
     "text": [
      "(6-3j)\n"
     ]
    }
   ],
   "source": [
    "a = (4-6j) + (2+3j)\n",
    "print(a)"
   ]
  },
  {
   "cell_type": "code",
   "execution_count": 19,
   "id": "99ea66ed",
   "metadata": {},
   "outputs": [
    {
     "data": {
      "text/plain": [
       "((6+3j), 6.0, -3.0)"
      ]
     },
     "execution_count": 19,
     "metadata": {},
     "output_type": "execute_result"
    }
   ],
   "source": [
    "a.conjugate(), a.real, a.imag"
   ]
  },
  {
   "cell_type": "code",
   "execution_count": 20,
   "id": "614f0c80",
   "metadata": {},
   "outputs": [
    {
     "data": {
      "text/plain": [
       "(45+0j)"
      ]
     },
     "execution_count": 20,
     "metadata": {},
     "output_type": "execute_result"
    }
   ],
   "source": [
    "a * a.conjugate() # (a + bj) * (a - bj) = a**2 + abj-abj + b**2"
   ]
  },
  {
   "cell_type": "code",
   "execution_count": 21,
   "id": "f58cc6a3",
   "metadata": {},
   "outputs": [
    {
     "name": "stdout",
     "output_type": "stream",
     "text": [
      "True\n",
      "False\n",
      "False\n",
      "False\n"
     ]
    }
   ],
   "source": [
    "print(True and True)\n",
    "print(True and False)\n",
    "print(False and True)\n",
    "print(False and False)"
   ]
  },
  {
   "cell_type": "code",
   "execution_count": 22,
   "id": "e16f3b51",
   "metadata": {},
   "outputs": [
    {
     "name": "stdout",
     "output_type": "stream",
     "text": [
      "True\n",
      "False\n",
      "False\n",
      "False\n"
     ]
    }
   ],
   "source": [
    "print(True & True)\n",
    "print(True & False)\n",
    "print(False & True)\n",
    "print(False & False)"
   ]
  },
  {
   "cell_type": "code",
   "execution_count": 23,
   "id": "e28b4e47",
   "metadata": {},
   "outputs": [
    {
     "name": "stdout",
     "output_type": "stream",
     "text": [
      "True\n",
      "True\n",
      "True\n",
      "False\n"
     ]
    }
   ],
   "source": [
    "print(True or True)\n",
    "print(True or False)\n",
    "print(False or True)\n",
    "print(False or False)"
   ]
  },
  {
   "cell_type": "code",
   "execution_count": 24,
   "id": "034829bf",
   "metadata": {},
   "outputs": [
    {
     "name": "stdout",
     "output_type": "stream",
     "text": [
      "True\n",
      "True\n",
      "True\n",
      "False\n"
     ]
    }
   ],
   "source": [
    "print(True | True)\n",
    "print(True | False)\n",
    "print(False | True)\n",
    "print(False | False)"
   ]
  },
  {
   "cell_type": "code",
   "execution_count": 25,
   "id": "21ee64ec",
   "metadata": {},
   "outputs": [
    {
     "name": "stdout",
     "output_type": "stream",
     "text": [
      "True\n",
      "False\n"
     ]
    }
   ],
   "source": [
    "print(not False)\n",
    "print(not True)"
   ]
  },
  {
   "cell_type": "code",
   "execution_count": 36,
   "id": "f6f132c2",
   "metadata": {},
   "outputs": [
    {
     "name": "stdout",
     "output_type": "stream",
     "text": [
      "False\n",
      "True\n",
      "True\n",
      "False\n"
     ]
    }
   ],
   "source": [
    "print(True ^ True)\n",
    "print(True ^ False)\n",
    "print(False ^ True)\n",
    "print(False ^ False)"
   ]
  },
  {
   "cell_type": "code",
   "execution_count": 34,
   "id": "b9b371c1",
   "metadata": {},
   "outputs": [
    {
     "name": "stdout",
     "output_type": "stream",
     "text": [
      "2\n"
     ]
    }
   ],
   "source": [
    "print(~ (-3))"
   ]
  },
  {
   "cell_type": "code",
   "execution_count": 28,
   "id": "8b27389f",
   "metadata": {},
   "outputs": [
    {
     "data": {
      "text/plain": [
       "0"
      ]
     },
     "execution_count": 28,
     "metadata": {},
     "output_type": "execute_result"
    }
   ],
   "source": [
    "0 and 3"
   ]
  },
  {
   "cell_type": "code",
   "execution_count": 29,
   "id": "a6482d3b",
   "metadata": {},
   "outputs": [
    {
     "name": "stdout",
     "output_type": "stream",
     "text": [
      "True\n",
      "True\n",
      "False\n",
      "True\n",
      "True\n",
      "True\n"
     ]
    }
   ],
   "source": [
    "print(2 < 3)\n",
    "print(2 <= 3)\n",
    "print(2 > 3)\n",
    "print(3 >= 3)\n",
    "print(2 == 2)\n",
    "print(2 != 3)"
   ]
  },
  {
   "cell_type": "code",
   "execution_count": 33,
   "id": "66b3c528",
   "metadata": {},
   "outputs": [
    {
     "name": "stdout",
     "output_type": "stream",
     "text": [
      "3\n",
      "1\n",
      "5\n",
      "2.5\n"
     ]
    }
   ],
   "source": [
    "a = 0\n",
    "\n",
    "a += 3 # a = a + 3\n",
    "print(a)\n",
    "\n",
    "a -= 2 # a = a - 2\n",
    "print(a)\n",
    "\n",
    "a *= 5 # a = a * 5\n",
    "print(a)\n",
    "\n",
    "a /= 2 # a = a / 2\n",
    "print(a)"
   ]
  },
  {
   "cell_type": "markdown",
   "id": "1a9381bb",
   "metadata": {},
   "source": [
    "# Condition block"
   ]
  },
  {
   "cell_type": "code",
   "execution_count": null,
   "id": "24b98804",
   "metadata": {},
   "outputs": [],
   "source": [
    "# if (condition1):\n",
    "    # commands\n",
    "    # commands\n",
    "    # commands\n",
    "# elif (condition2):\n",
    "    # commands\n",
    "    # commands\n",
    "    # commands\n",
    "# elif (condition3):\n",
    "    # commands\n",
    "    # commands\n",
    "    # commands\n",
    "# elif (condition4):\n",
    "    # .\n",
    "    # .\n",
    "    # .\n",
    "# else:\n",
    "    # commands\n",
    "    # commands\n",
    "    # commands"
   ]
  },
  {
   "cell_type": "code",
   "execution_count": 42,
   "id": "2b4fba70",
   "metadata": {},
   "outputs": [
    {
     "name": "stdout",
     "output_type": "stream",
     "text": [
      "please enter a number4\n",
      "even\n"
     ]
    }
   ],
   "source": [
    "a = int(input('please enter a number'))\n",
    "\n",
    "if a % 2 == 0:\n",
    "    print('even')\n",
    "else:\n",
    "    print('odd')"
   ]
  },
  {
   "cell_type": "code",
   "execution_count": 44,
   "id": "8958b274",
   "metadata": {},
   "outputs": [
    {
     "name": "stdout",
     "output_type": "stream",
     "text": [
      "please enter your salary: 120\n",
      "high\n"
     ]
    }
   ],
   "source": [
    "salary = int(input('please enter your salary: '))\n",
    "\n",
    "if salary < 50:\n",
    "    print('low')\n",
    "elif salary >= 50 and salary < 100:\n",
    "    print('medium')\n",
    "elif salary > 100:\n",
    "    print('high')"
   ]
  },
  {
   "cell_type": "markdown",
   "id": "9882dbca",
   "metadata": {},
   "source": [
    "# LOOP or Iterations"
   ]
  },
  {
   "cell_type": "code",
   "execution_count": 1,
   "id": "0607da52",
   "metadata": {},
   "outputs": [],
   "source": [
    "# for i in range(N):\n",
    "    #     commands\n",
    "    #     commands\n",
    "\n",
    "# while condition:\n",
    "    # commands\n",
    "    # commands"
   ]
  },
  {
   "cell_type": "code",
   "execution_count": 1,
   "id": "de8706aa",
   "metadata": {},
   "outputs": [
    {
     "name": "stdout",
     "output_type": "stream",
     "text": [
      "0\n",
      "1\n",
      "2\n",
      "3\n",
      "4\n",
      "5\n",
      "6\n",
      "7\n",
      "8\n",
      "9\n"
     ]
    }
   ],
   "source": [
    "for i in range(10): # Start=0, Stop=10, Step=1: 0, 1, 2, 3, 4, ..., 9\n",
    "    print(i)"
   ]
  },
  {
   "cell_type": "code",
   "execution_count": 3,
   "id": "b1defee6",
   "metadata": {},
   "outputs": [
    {
     "name": "stdout",
     "output_type": "stream",
     "text": [
      "2\n",
      "5\n",
      "8\n",
      "11\n"
     ]
    }
   ],
   "source": [
    "for i in range(2, 13, 3): #Start=2, Stop=13, Step=3: 2, 3, 8, 11\n",
    "    print(i)"
   ]
  },
  {
   "cell_type": "code",
   "execution_count": 4,
   "id": "e9410618",
   "metadata": {},
   "outputs": [
    {
     "name": "stdout",
     "output_type": "stream",
     "text": [
      "3\n",
      "4\n",
      "5\n",
      "6\n",
      "7\n",
      "8\n",
      "9\n",
      "10\n",
      "11\n"
     ]
    }
   ],
   "source": [
    "for i in range(3, 12): #Start=3, Stop=12, Step=1: 3, 4, ... 11\n",
    "    print(i)"
   ]
  },
  {
   "cell_type": "code",
   "execution_count": 5,
   "id": "6a87a30c",
   "metadata": {},
   "outputs": [
    {
     "name": "stdout",
     "output_type": "stream",
     "text": [
      "2550\n"
     ]
    }
   ],
   "source": [
    "s = 0\n",
    "\n",
    "for i in range(0, 101, 2):\n",
    "    s += i # s = s + i\n",
    "    \n",
    "print(s)"
   ]
  },
  {
   "cell_type": "code",
   "execution_count": 6,
   "id": "30fbca86",
   "metadata": {},
   "outputs": [
    {
     "name": "stdout",
     "output_type": "stream",
     "text": [
      "3\n",
      "2\n",
      "1\n",
      "0\n",
      "-1\n",
      "-2\n",
      "-3\n",
      "-4\n",
      "-5\n",
      "-6\n",
      "-7\n",
      "-8\n",
      "-9\n"
     ]
    }
   ],
   "source": [
    "for i in range(3, -10, -1):\n",
    "    print(i)"
   ]
  },
  {
   "cell_type": "code",
   "execution_count": 7,
   "id": "5bd37565",
   "metadata": {},
   "outputs": [
    {
     "name": "stdout",
     "output_type": "stream",
     "text": [
      "2550\n"
     ]
    }
   ],
   "source": [
    "s = 0\n",
    "i = 0\n",
    "\n",
    "while i<=100:\n",
    "    s += i\n",
    "    i += 2\n",
    "    \n",
    "print(s)"
   ]
  },
  {
   "cell_type": "code",
   "execution_count": 9,
   "id": "db6c8af2",
   "metadata": {},
   "outputs": [
    {
     "name": "stdout",
     "output_type": "stream",
     "text": [
      "enter a number: 123456789\n",
      "9\n",
      "12345678\n",
      "8\n",
      "1234567\n",
      "7\n",
      "123456\n",
      "6\n",
      "12345\n",
      "5\n",
      "1234\n",
      "4\n",
      "123\n",
      "3\n",
      "12\n",
      "2\n",
      "1\n",
      "1\n",
      "0\n"
     ]
    }
   ],
   "source": [
    "n = int(input('enter a number: '))\n",
    "\n",
    "while n > 0:\n",
    "    print(n%10)\n",
    "    n = n // 10\n",
    "    print(n)"
   ]
  },
  {
   "cell_type": "code",
   "execution_count": 11,
   "id": "a6af2967",
   "metadata": {},
   "outputs": [
    {
     "name": "stdout",
     "output_type": "stream",
     "text": [
      "enter a number: 7\n",
      "1\n",
      "1\n",
      "1\n"
     ]
    }
   ],
   "source": [
    "# 7: 111\n",
    "# 10: 1010\n",
    "\n",
    "n = int(input('enter a number: '))\n",
    "\n",
    "while n>0:\n",
    "    print(n%2)\n",
    "    n = n // 2"
   ]
  },
  {
   "cell_type": "code",
   "execution_count": null,
   "id": "96068e0d",
   "metadata": {},
   "outputs": [],
   "source": []
  }
 ],
 "metadata": {
  "kernelspec": {
   "display_name": "Python 3 (ipykernel)",
   "language": "python",
   "name": "python3"
  },
  "language_info": {
   "codemirror_mode": {
    "name": "ipython",
    "version": 3
   },
   "file_extension": ".py",
   "mimetype": "text/x-python",
   "name": "python",
   "nbconvert_exporter": "python",
   "pygments_lexer": "ipython3",
   "version": "3.9.5"
  }
 },
 "nbformat": 4,
 "nbformat_minor": 5
}
